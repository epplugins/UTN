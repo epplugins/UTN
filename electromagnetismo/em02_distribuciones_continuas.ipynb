{
 "cells": [
  {
   "cell_type": "markdown",
   "metadata": {},
   "source": [
    "<table>\n",
    "<tr style=\"border:none;\">\n",
    "<td style=\"border:none;\"><a href=\"https://fra.utn.edu.ar/\">\n",
    "<image src=\"https://raw.githubusercontent.com/epplugins/UTN/main/assets/img/logoUTN-500.svg\"  width=\"100\">\n",
    "</a></td>\n",
    "<td style=\"border:none;\">Física 2<br>2024<br>Electromagnetismo<br>Material para trabajo en clase\n",
    "</td>\n",
    "</tr>\n",
    "</table> \n",
    "\n",
    "# Campo eléctrico de distribuciones de cargas contínuas\n",
    "\n",
    "Parte 1\n",
    "\n",
    "En este cuaderno los campos se calculan con métodos numéricos simples, con el objetivo de visualizar y comprender como se obtiene el campo total pensando a los objetos extensos como una distribución de muchas cargas puntuales y sumando sus contribuciones.\n",
    "\n",
    "<table>\n",
    "<tr style=\"border:none;\">\n",
    "<td style=\"border:none;\"><a href=\"https://creativecommons.org/licenses/by-nc-sa/4.0/deed.es\"><image src=\"https://raw.githubusercontent.com/epplugins/UTN/main/assets/img/by-nc-sa.svg\" width=\"70\" /></a></td>\n",
    "<td style=\"border:none;\">Edgardo Palazzo (epalazzo@fra.utn.edu.ar)\n",
    "</td>\n",
    "</tr>\n",
    "</table>\n",
    "\n",
    "---"
   ]
  },
  {
   "cell_type": "markdown",
   "metadata": {},
   "source": [
    "**Tabla de contenidos**<a id='toc0_'></a>    \n",
    "- 1. [Campo de una línea de carga](#toc1_)    \n",
    "- 2. [Ejercicio XX.1: Segmento recto con carga uniforme](#toc2_)    \n",
    "  - 2.1. [Cálculo exacto del campo de un segmento](#toc2_1_)    \n",
    "  - 2.2. [Segmento muy largo (línea infinita) con carga uniforme](#toc2_2_)    \n",
    "- 3. [Ejercicio XX.2: Dos segmentos](#toc3_)    \n",
    "- 4. [Ejercicio XX.3: Anillo cargado uniformemente](#toc4_)    \n",
    "  - 4.1. [Disco con carga uniforme](#toc4_1_)    \n",
    "  - 4.2. [Plano muy grande (infinito) con carga uniforme](#toc4_2_)    \n",
    "- 5. [Ejercicio XX.3: Dos planos](#toc5_)    \n",
    "\n",
    "<!-- vscode-jupyter-toc-config\n",
    "\tnumbering=true\n",
    "\tanchor=true\n",
    "\tflat=false\n",
    "\tminLevel=2\n",
    "\tmaxLevel=6\n",
    "\t/vscode-jupyter-toc-config -->\n",
    "<!-- THIS CELL WILL BE REPLACED ON TOC UPDATE. DO NOT WRITE YOUR TEXT IN THIS CELL -->"
   ]
  },
  {
   "cell_type": "code",
   "execution_count": null,
   "metadata": {},
   "outputs": [],
   "source": [
    "import matplotlib.pyplot as plt\n",
    "import numpy as np\n",
    "import sys\n",
    "\n",
    "np.seterr(divide='ignore')  # Elimina advertencia al dividir por cero.\n",
    "\n",
    "import importlib  # Borrar Not needed after final version.\n",
    "\n",
    "# ------------------------------------\n",
    "# Lo siguiente es necesario para que funcione en Google Colab\n",
    "try:\n",
    "  import libem as em\n",
    "except:\n",
    "  # No descarga los archivos (aunque sí descarga .git)\n",
    "  !git clone -n https://github.com/epplugins/UTN.git --depth 1\n",
    "  !cd UTN;git checkout HEAD electromagnetismo/libem.py\n",
    "  sys.path.insert(0, 'UTN/electromagnetismo')\n",
    "  import libem as em\n",
    "\n",
    "try:\n",
    "  import google.colab\n",
    "  IN_COLAB = True\n",
    "except:\n",
    "  IN_COLAB = False\n",
    "\n",
    "if IN_COLAB:\n",
    "  !pip --quiet install ipympl\n",
    "  from google.colab import output\n",
    "  output.enable_custom_widget_manager()\n",
    "# Fin Google colab\n",
    "# ------------------------------------\n",
    "\n",
    "%matplotlib widget"
   ]
  },
  {
   "cell_type": "markdown",
   "metadata": {},
   "source": [
    "## 1. <a id='toc1_'></a>[Campo de una línea de carga](#toc0_)\n",
    "\n",
    "Podemos pensar que una línea contínua de carga total $Q$ está formada por $N$ partículas de carga $q_i$ de forma que:\n",
    "$$\n",
    "Q = \\sum_{i=1}^N q_i ~ . \\tag{1}\n",
    "$$\n",
    "\n",
    "El campo eléctrico producido por cada carga $q_i$ ubicada en la posición $\\vec{\\text{x}}_i$ a lo largo de la línea, puede escribirse como:\n",
    "$$\n",
    "\\vec{E}_i(\\vec{\\text{x}}) = \\frac{1}{4\\pi\\varepsilon_0} \\frac{q_i}{|\\vec{\\text{r}}_i|^3} \\vec{\\text{r}}_i\\, , \\tag{2}\n",
    "$$\n",
    "\n",
    "donde\n",
    "* $q_i$ es la carga eléctrica de la partícula i-ésima \n",
    "* $\\vec{\\text{r}}_i$ es el vector diferencia entre la posición donde se quiere obtener el vector de campo eléctrico ($\\vec{\\text{x}}$) y la posición de la partícula cargada ($\\vec{\\text{x}}_i$) : $\\vec{\\text{r}}_i = (x-x_i)\\hat{i} + (y-y_i)\\hat{j} + (z-z_i)\\hat{k} $\n",
    "\n",
    "En la siguiente figura se muestran a modo de ejemplo los vectores correspondientes a la primera ($q_1$) y a la última ($q_N$) carga a lo largo de una línea. \n",
    "\n",
    "<div>\n",
    "       <a href=\"https://fra.utn.edu.ar/\">\n",
    "       <image src=\"https://raw.githubusercontent.com/epplugins/UTN/main/electromagnetismo/img/em02_linea.svg\">\n",
    "       </a>\n",
    "</div>\n",
    "\n",
    "Por último, para obtener el campo total es necesario sumar los vectores de los campos de todas las $q_i$ a lo largo de la línea:\n",
    "$$\n",
    "\\vec{E}(\\vec{\\text{x}}) = \\sum_{i=1}^N \\vec{E}_i(\\vec{\\text{x}})  ~ . \\tag{3}\n",
    "$$\n",
    "\n",
    "Para calcular el campo eléctrico reutilizaremos la función que escribimos en el cuaderno *em01_campo_electrico*. En esa función ya sumábamos el campo producido por $N$ cargas, el nuevo desafío es escribir la configuración de cargas correspondiente para cada problema.\n"
   ]
  },
  {
   "cell_type": "code",
   "execution_count": null,
   "metadata": {},
   "outputs": [],
   "source": [
    "def E(x, y, z, Q):\n",
    "    \"\"\"Calcula las componentes del campo eléctrico en N/C.\n",
    "    Ingresar valores de x,y,z en metros y q en coulomb.\n",
    "    Q es una lista de la forma:\n",
    "    Q = [\n",
    "        [q1,x1,y1,z1],\n",
    "        [q2,x2,y2,z2],\n",
    "        ...\n",
    "        [qN,xN,yN,zN]\n",
    "    ]\n",
    "    \"\"\"\n",
    "    Ei,Ej,Ek = 0,0,0\n",
    "    for qi in Q:\n",
    "        r = ((x - qi[1])**2 + (y - qi[2])**2 + (z - qi[3])**2)**(3/2)\n",
    "        Ei = Ei + 9E9 * qi[0] * (x - qi[1]) / r\n",
    "        Ej = Ej + 9E9 * qi[0] * (y - qi[2]) / r\n",
    "        Ek = Ek + 9E9 * qi[0] * (z - qi[3]) / r\n",
    "\n",
    "    return Ei, Ej, Ek"
   ]
  },
  {
   "cell_type": "markdown",
   "metadata": {},
   "source": [
    "## 2. <a id='toc2_'></a>[Ejercicio XX.1: Segmento recto con carga uniforme](#toc0_)\n",
    "\n",
    "Segmento de longitud $L$, ubicado sobre el eje $x$, centrado en el origen y con carga total $Q$ distribuida uniformemente."
   ]
  },
  {
   "cell_type": "code",
   "execution_count": null,
   "metadata": {},
   "outputs": [],
   "source": [
    "# Carga total del objeto:\n",
    "Qtotal = 1E-9\n",
    "# Longitud del segmento (en m):\n",
    "L = 40E-2\n",
    "# Número de cargas en que se divide el cuerpo extenso:\n",
    "N = 10\n",
    "\n",
    "dq = Qtotal/N\n",
    "# Separación entre cargas:\n",
    "dx = L/N\n",
    "# Valor inicial de x (el centro del primer \"diferencial\" de longitud dx):\n",
    "x0 = -L/2 + dx/2\n",
    "\n",
    "Q = []\n",
    "for i in np.arange(N):\n",
    "    Q = Q + [[dq, x0+i*dx,0,0]]\n"
   ]
  },
  {
   "cell_type": "markdown",
   "metadata": {},
   "source": [
    "Veamos la contribución de cada porción del segmento en el cálculo del campo en alguna posición."
   ]
  },
  {
   "cell_type": "code",
   "execution_count": null,
   "metadata": {},
   "outputs": [],
   "source": [
    "x = [0, 0.15, 0]\n",
    "em.plotEfcontribuciones(E, Q, x, limites=[-0.3, 0.3, -0.05, 0.65], scale=3)"
   ]
  },
  {
   "cell_type": "markdown",
   "metadata": {},
   "source": [
    "Calculemos el campo en algunas posiciones para verificar que los resultados son los que esperamos."
   ]
  },
  {
   "cell_type": "code",
   "execution_count": null,
   "metadata": {},
   "outputs": [],
   "source": [
    "print(\"E(0,0.1,0)    = \", np.round(E(0,0.1,0,Q), decimals=3))\n",
    "print(\"E(0,-0.1,0)   = \", np.round(E(0,-0.1,0,Q), decimals=3))\n",
    "print(\"E(-0.2,0,0)   = \", np.round(E(-0.2,0,0,Q), decimals=3))\n",
    "print(\"E(0.2,0,0)    = \", np.round(E(0.2,0,0,Q), decimals=3))\n",
    "print(\"E(-0.1,0.1,0) = \", np.round(E(-0.1,0.1,0,Q), decimals=3))\n",
    "print(\"E(0.1,0.1,0)  = \", np.round(E(0.1,0.1,0,Q), decimals=3))\n",
    "print(\"E(0,0,0.1)    = \", np.round(E(0,0,0.1,Q), decimals=3))"
   ]
  },
  {
   "cell_type": "code",
   "execution_count": null,
   "metadata": {},
   "outputs": [],
   "source": [
    "X = [[0,0.1,0],[0,-0.1,0],[-0.2,0,0],[0.2,0,0],[-0.1,0.1,0],[0.1,0.1,0],[-0.1,-0.1,0],[0.1,-0.1,0]]\n",
    "em.plotEfvector(E, Q, X, limites=[-0.3,0.3,-0.3,0.3], title=\"Segmento con carga uniforme\", scale=10)"
   ]
  },
  {
   "cell_type": "code",
   "execution_count": null,
   "metadata": {},
   "outputs": [],
   "source": [
    "em.plotEf(E, Q, dx=0.3, density=0.5, title='Líneas de campo de un\\n segmento con carga uniforme')"
   ]
  },
  {
   "cell_type": "markdown",
   "metadata": {},
   "source": [
    "### 2.1. <a id='toc2_1_'></a>[Cálculo exacto del campo de un segmento](#toc0_)\n",
    "\n",
    "Considerando que la distribución de carga es contínua, la suma que estamos realizando se convierte en una integral cuando el objeto se divide en cargas diferenciales.\n",
    "\n",
    "$$\n",
    "\\vec{E}(\\vec{\\text{x}}) =  ~ , \\tag{4}\n",
    "$$"
   ]
  },
  {
   "cell_type": "markdown",
   "metadata": {},
   "source": [
    "### 2.2. <a id='toc2_2_'></a>[Segmento muy largo (línea infinita) con carga uniforme](#toc0_)\n",
    "\n",
    "El cálculo análitico para obtener el campo eléctrico producido por una línea recta de carga infinita es mucho más sencillo que el correspondiente a un segmento de longitud finita. Es por ello que se aprovecha el resultado analítico de la línea infinita para aproximar el campo de un segmento en regiones donde se lo puede considerar muy largo, cerca del centro del segmento.\n",
    "\n",
    "A continuación compararemos los resultados calculando el campo cerca del centro de un segmento utilizando tres métodos: la aproximación de línea recta infinita, el cálculo numérico que estamos utilizando para sumar pequeñas cargas, y el resultado análitico exacto integrando sobre el segmento.\n",
    "\n",
    "Campo de un hilo infinito:\n",
    "\n",
    "$$\n",
    "    \\vec{E}(r) = \\frac{2k\\lambda}{r} \\hat{r} ~ , \\tag{40}\n",
    "$$\n",
    "\n",
    "donde\n",
    "* $r$ es la distancia entre el punto donde se calcula el campo y la línea cargada\n",
    "* $\\hat{r}$ es la dirección radial respecto de la línea de carga\n",
    "* $\\lambda$ es la densidad lineal de carga"
   ]
  },
  {
   "cell_type": "code",
   "execution_count": null,
   "metadata": {},
   "outputs": [],
   "source": [
    "def Ehilo(x, y, z, dq):\n",
    "    \"\"\"Calcula las componentes del campo eléctrico en N/C para un hilo\n",
    "    infinito ubicado sobre el eje i, con densidad de carga dq.\n",
    "    Ingresar valores de x,y,z en m y dq en C/m.\n",
    "    \"\"\"\n",
    "    # Módulo de r al cuadrado:\n",
    "    r2 = y**2+z**2\n",
    "    Ej = 2 * 9E9 * dq * y / r2\n",
    "    Ek = 2 * 9E9 * dq * z / r2\n",
    "\n",
    "    return 0, Ej, Ek"
   ]
  },
  {
   "cell_type": "markdown",
   "metadata": {},
   "source": [
    "Verifiquemos que se obtiene lo esperado:"
   ]
  },
  {
   "cell_type": "code",
   "execution_count": null,
   "metadata": {},
   "outputs": [],
   "source": [
    "#Calculo de E en distintos r y angulos."
   ]
  },
  {
   "cell_type": "markdown",
   "metadata": {},
   "source": [
    "El cálculo analítico exacto para el campo de un segmento de longitud $L$ sobre el eje $i$, centrado en el origen, es:\n",
    "$$\n",
    "\\vec{E}(\\vec{\\text{x}}) = ~ \\tag{5}\n",
    "$$"
   ]
  },
  {
   "cell_type": "code",
   "execution_count": null,
   "metadata": {},
   "outputs": [],
   "source": []
  },
  {
   "cell_type": "code",
   "execution_count": null,
   "metadata": {},
   "outputs": [],
   "source": []
  },
  {
   "cell_type": "markdown",
   "metadata": {},
   "source": [
    "## 3. <a id='toc3_'></a>[Ejercicio XX.2: Dos segmentos](#toc0_)"
   ]
  },
  {
   "cell_type": "code",
   "execution_count": null,
   "metadata": {},
   "outputs": [],
   "source": []
  },
  {
   "cell_type": "markdown",
   "metadata": {},
   "source": [
    "## 4. <a id='toc4_'></a>[Ejercicio XX.3: Anillo cargado uniformemente](#toc0_)\n",
    "\n",
    "Anillo de radio $R$ sobre el plano $ij$ (es decir, $z=0$), centrado en el origen, con carga total $Q$ distribuida uniformemente."
   ]
  },
  {
   "cell_type": "code",
   "execution_count": null,
   "metadata": {},
   "outputs": [],
   "source": [
    "# Carga total del objeto:\n",
    "Qtotal = 1E-9\n",
    "# Longitud del segmento (en m):\n",
    "R = 20E-2\n",
    "# Número de cargas en que se divide el cuerpo extenso:\n",
    "N = 100\n",
    "\n",
    "dq = Qtotal/N\n",
    "# Separación angular entre cargas:\n",
    "dt = 2*np.pi/N\n",
    "# Angulo de la primer carga (el centro del primer \"diferencial\" de longitud dx=R*dt):\n",
    "t0 = dt/2\n",
    "\n",
    "Q = []\n",
    "for i in np.arange(N):\n",
    "    Q = Q + [[dq, R*np.cos(t0+i*dt), R*np.sin(t0+i*dt),0]]\n"
   ]
  },
  {
   "cell_type": "markdown",
   "metadata": {},
   "source": [
    "Algunos vectores de ejemplo:"
   ]
  },
  {
   "cell_type": "code",
   "execution_count": null,
   "metadata": {},
   "outputs": [],
   "source": [
    "# X = [[0,0.1,0],[0,-0.1,0],[-0.2,0,0],[0.2,0,0],[-0.1,0.1,0],[0.1,0.1,0],[-0.1,-0.1,0],[0.1,-0.1,0]]\n",
    "X = [[0,0.1,0], [0.2,0.2,0], [0.1, -0.1,0]]\n",
    "em.plotEfvector(E, Q, X, limites=[-0.3,0.3,-0.3,0.3], title=\"Anillo con carga uniforme\", scale=10)"
   ]
  },
  {
   "cell_type": "code",
   "execution_count": null,
   "metadata": {},
   "outputs": [],
   "source": [
    "em.plotEf(E, Q, dx=0.3, density=0.5, title='Líneas de campo de un\\n anillo con carga uniforme',\n",
    "          figsize=(6,6))\n"
   ]
  },
  {
   "cell_type": "code",
   "execution_count": null,
   "metadata": {},
   "outputs": [],
   "source": [
    "# Para ver las líneas sobre el plano $ik$, hacemos trampa y\n",
    "# escribimos el anillo en el plano $ik$ y graficamos la líneas\n",
    "# en el plano $ij$.\n",
    "\n",
    "Qr = []\n",
    "for i in np.arange(N):\n",
    "    Qr = Qr + [[dq, R*np.cos(t0+i*dt), 0, R*np.sin(t0+i*dt)]]\n",
    "\n",
    "em.plotEf(E, Qr, dx=0.3, density=0.5, title='Líneas de campo de un\\n anillo con carga uniforme',\n",
    "          figsize=(6,6))\n"
   ]
  },
  {
   "cell_type": "markdown",
   "metadata": {},
   "source": [
    "### 4.1. <a id='toc4_1_'></a>[Disco con carga uniforme](#toc0_)\n",
    "\n",
    "El disco como una suma de anillos."
   ]
  },
  {
   "cell_type": "code",
   "execution_count": null,
   "metadata": {},
   "outputs": [],
   "source": [
    "# Carga total del objeto:\n",
    "Qtotal = 1E-9\n",
    "# Longitud del segmento (en m):\n",
    "R = 20E-2\n",
    "# Número de cargas en que se divide el cuerpo extenso: N*Nanillos\n",
    "N = 20\n",
    "Nanillos = 10\n",
    "\n",
    "dq = Qtotal/(N*Nanillos)\n",
    "dR = R/Nanillos\n",
    "# Separación angular entre cargas:\n",
    "dt = 2*np.pi/N\n",
    "# Angulo de la primer carga (el centro del primer \"diferencial\" de longitud dx=R*dt):\n",
    "t0 = dt/2\n",
    "# Radio del primer anillo:\n",
    "R0 = dR/2\n",
    "\n",
    "Q = []\n",
    "for i in np.arange(N):\n",
    "    for j in np.arange(Nanillos):\n",
    "        Q = Q + [[dq, (R0+j*dR)*np.cos(t0+i*dt), 0, (R0+j*dR)*np.sin(t0+i*dt)]]"
   ]
  },
  {
   "cell_type": "code",
   "execution_count": null,
   "metadata": {},
   "outputs": [],
   "source": [
    "em.plotEf(E, Q, dx=0.5, density=0.5, title='Líneas de campo de un\\n disco con carga uniforme',\n",
    "          figsize=(6,6))\n"
   ]
  },
  {
   "cell_type": "code",
   "execution_count": null,
   "metadata": {},
   "outputs": [],
   "source": [
    "em.plotEfvector3d(E, Q, dx=0.3, w=4, figsize=(6,6))"
   ]
  },
  {
   "cell_type": "markdown",
   "metadata": {},
   "source": [
    "### 4.2. <a id='toc4_2_'></a>[Plano muy grande (infinito) con carga uniforme](#toc0_)\n",
    "\n",
    "El plano infinito no existe, obviamente. Comprobemos que el campo cerca de un plano muy grande está bien aproximado por el campo de un plano infinito.\n",
    "\n",
    "Podemos utilizar el resultado enterior y analizar los resultados miuy cerca del centro."
   ]
  },
  {
   "cell_type": "code",
   "execution_count": null,
   "metadata": {},
   "outputs": [],
   "source": [
    "# Carga total del objeto:\n",
    "Qtotal = 1E-9\n",
    "# Longitud del segmento (en m):\n",
    "R = 20\n",
    "# Número de cargas en que se divide el cuerpo extenso: N*Nanillos\n",
    "N = 100\n",
    "Nanillos = 20\n",
    "\n",
    "dq = Qtotal/(N*Nanillos)\n",
    "dR = R/Nanillos\n",
    "# Separación angular entre cargas:\n",
    "dt = 2*np.pi/N\n",
    "# Angulo de la primer carga (el centro del primer \"diferencial\" de longitud dx=R*dt):\n",
    "t0 = dt/2\n",
    "# Radio del primer anillo:\n",
    "R0 = dR/2\n",
    "\n",
    "Q = []\n",
    "for i in np.arange(N):\n",
    "    for j in np.arange(Nanillos):\n",
    "        Q = Q + [[dq, (R0+j*dR)*np.cos(t0+i*dt), 0, (R0+j*dR)*np.sin(t0+i*dt)]]\n",
    "em.plotEf(E, Q, dx=0.1, density=1, title='Líneas de campo de un\\n disco con carga uniforme',\n",
    "          figsize=(6,6))\n"
   ]
  },
  {
   "cell_type": "markdown",
   "metadata": {},
   "source": [
    "## 5. <a id='toc5_'></a>[Ejercicio XX.3: Dos planos](#toc0_)\n",
    "\n",
    "Dos superficies planas paralelas al plano $ik$, centradas en el eje $j$. Una superficie se encuentra en $y=a$ y la otra en $y=-a$."
   ]
  },
  {
   "cell_type": "code",
   "execution_count": null,
   "metadata": {},
   "outputs": [],
   "source": []
  },
  {
   "cell_type": "markdown",
   "metadata": {},
   "source": [
    "¿qué más? ¿cuáles son ejercicios?\n",
    "\n",
    "\n",
    "Dos superficies cilíndricas uniforme (capacitor)\n",
    "\n",
    "Superficie esférica con carga no uniforme\n",
    "(comentar que la uniforme es trivial ya, y se sabe el resultado)\n",
    "\n",
    "Esfera maciza con rho(x,y,z)\n",
    "(comentar que con rho uniforme es trivial y se sabe el resultado, no se pierde el tiempo)\n",
    "\n",
    "Segmento con carga no uniforme.\n",
    "\n",
    "Plano con carga no uniforme (sigma(r))\n",
    "\n"
   ]
  },
  {
   "cell_type": "code",
   "execution_count": null,
   "metadata": {},
   "outputs": [],
   "source": [
    "# plt.close('all')"
   ]
  },
  {
   "cell_type": "code",
   "execution_count": null,
   "metadata": {},
   "outputs": [],
   "source": []
  }
 ],
 "metadata": {
  "kernelspec": {
   "display_name": "utn",
   "language": "python",
   "name": "python3"
  },
  "language_info": {
   "codemirror_mode": {
    "name": "ipython",
    "version": 3
   },
   "file_extension": ".py",
   "mimetype": "text/x-python",
   "name": "python",
   "nbconvert_exporter": "python",
   "pygments_lexer": "ipython3",
   "version": "3.11.3"
  }
 },
 "nbformat": 4,
 "nbformat_minor": 2
}
