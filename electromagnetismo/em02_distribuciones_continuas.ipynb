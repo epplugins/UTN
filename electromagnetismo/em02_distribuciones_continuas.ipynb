{
 "cells": [
  {
   "cell_type": "markdown",
   "metadata": {},
   "source": [
    "<table>\n",
    "<tr style=\"border:none;\">\n",
    "<td style=\"border:none;\"><a href=\"https://fra.utn.edu.ar/\">\n",
    "<image src=\"https://raw.githubusercontent.com/epplugins/UTN/main/assets/img/logoUTN-500.svg\"  width=\"100\">\n",
    "</a></td>\n",
    "<td style=\"border:none;\">Física 2<br>2024<br>Electromagnetismo<br>Material para trabajo en clase\n",
    "</td>\n",
    "</tr>\n",
    "</table> \n",
    "\n",
    "# Campo eléctrico de distribuciones de cargas contínuas\n",
    "\n",
    "Parte 1\n",
    "\n",
    "En este cuaderno los campos se calculan con métodos numéricos simples, con el objetivo de visualizar y comprender como se obtiene el campo total pensando a los objetos extensos como una distribución de muchas cargas puntuales pequeñas y sumando sus contribuciones.\n",
    "\n",
    "<table>\n",
    "<tr style=\"border:none;\">\n",
    "<td style=\"border:none;\"><a href=\"https://creativecommons.org/licenses/by-nc-sa/4.0/deed.es\"><image src=\"https://raw.githubusercontent.com/epplugins/UTN/main/assets/img/by-nc-sa.svg\" width=\"70\" /></a></td>\n",
    "<td style=\"border:none;\">Edgardo Palazzo (epalazzo@fra.utn.edu.ar)\n",
    "</td>\n",
    "</tr>\n",
    "</table>\n",
    "\n",
    "---"
   ]
  },
  {
   "cell_type": "markdown",
   "metadata": {},
   "source": [
    "**Tabla de contenidos**<a id='toc0_'></a>    \n",
    "- 1. [Campo de una línea recta de carga uniforme](#toc1_)    \n",
    "\n",
    "<!-- vscode-jupyter-toc-config\n",
    "\tnumbering=true\n",
    "\tanchor=true\n",
    "\tflat=false\n",
    "\tminLevel=2\n",
    "\tmaxLevel=6\n",
    "\t/vscode-jupyter-toc-config -->\n",
    "<!-- THIS CELL WILL BE REPLACED ON TOC UPDATE. DO NOT WRITE YOUR TEXT IN THIS CELL -->"
   ]
  },
  {
   "cell_type": "code",
   "execution_count": null,
   "metadata": {},
   "outputs": [],
   "source": [
    "import matplotlib.pyplot as plt\n",
    "import numpy as np\n",
    "import sys\n",
    "import importlib  # Borrar Not needed after final version.\n",
    "\n",
    "# ------------------------------------\n",
    "# Lo siguiente es necesario para que funcione en Google Colab\n",
    "try:\n",
    "  import libem as em\n",
    "except:\n",
    "  # No descarga los archivos (aunque sí descarga .git)\n",
    "  !git clone -n https://github.com/epplugins/UTN.git --depth 1\n",
    "  !cd UTN;git checkout HEAD electromagnetismo/libem.py\n",
    "  sys.path.insert(0, 'UTN/electromagnetismo')\n",
    "  import libem as em\n",
    "\n",
    "try:\n",
    "  import google.colab\n",
    "  IN_COLAB = True\n",
    "except:\n",
    "  IN_COLAB = False\n",
    "\n",
    "if IN_COLAB:\n",
    "  !pip --quiet install ipympl\n",
    "  from google.colab import output\n",
    "  output.enable_custom_widget_manager()\n",
    "# Fin Google colab\n",
    "# ------------------------------------\n",
    "\n",
    "%matplotlib widget"
   ]
  },
  {
   "cell_type": "markdown",
   "metadata": {},
   "source": [
    "## 1. <a id='toc1_'></a>[Campo de una línea de carga uniforme](#toc0_)\n",
    "\n",
    "Podemos pensar que una línea contínua de carga total $Q$ está formada por $N$ partículas de carga $q_i$ de forma que:\n",
    "$$\n",
    "Q = \\sum_{i=1}^N q_i ~ . \\tag{1}\n",
    "$$\n",
    "\n",
    "El campo eléctrico producido cada carga $q_i$ ubicada en la posición $\\vec{\\text{x}}_i$ a lo largo de la línea, puede escribirse como:\n",
    "$$\n",
    "\\vec{E}_i(\\vec{\\text{x}}) = \\frac{1}{4\\pi\\varepsilon_0} \\frac{q_i}{|\\vec{\\text{r}}_i|^3} \\vec{\\text{r}}_i\\, , \\tag{2}\n",
    "$$\n",
    "\n",
    "donde\n",
    "* $q_i$ es la carga eléctrica de la partícula i-ésima \n",
    "* $\\vec{\\text{r}}_i$ es el vector diferencia entre la posición donde se quiere obtener el vector de campo eléctrico ($\\vec{\\text{x}}$) y la posición de la partícula cargada ($\\vec{\\text{x}}_i$) : $\\vec{\\text{r}}_i = (x-x_i)\\hat{i} + (y-y_i)\\hat{j} + (z-z_i)\\hat{k} $\n",
    "\n",
    "En la siguiente figura se muestran a modo de ejemplo los vectores correspondientes a la primera ($q_1$) y a la última ($q_N$) carga a lo largo de una línea. \n",
    "\n",
    "<div>\n",
    "       <a href=\"https://fra.utn.edu.ar/\">\n",
    "       <image src=\"https://raw.githubusercontent.com/epplugins/UTN/main/electromagnetismo/img/em02_linea.svg\">\n",
    "       </a>\n",
    "</div>\n",
    "\n",
    "Por último, para obtener el campo total es necesario sumar los vectores de los campos de todas las $q_i$ a lo largo de la línea:\n",
    "$$\n",
    "\\vec{E}(\\vec{\\text{x}}) = \\sum_{i=1}^N \\vec{E}_i(\\vec{\\text{x}})  ~ . \\tag{3}\n",
    "$$"
   ]
  },
  {
   "cell_type": "markdown",
   "metadata": {},
   "source": [
    "Definición de una función que calcula las componentes del campo eléctrico en la posición $(x,y,z)$ cuando se tiene una carga de $1~\\text{nC}$ en el origen:"
   ]
  }
 ],
 "metadata": {
  "kernelspec": {
   "display_name": "utn",
   "language": "python",
   "name": "python3"
  },
  "language_info": {
   "codemirror_mode": {
    "name": "ipython",
    "version": 3
   },
   "file_extension": ".py",
   "mimetype": "text/x-python",
   "name": "python",
   "nbconvert_exporter": "python",
   "pygments_lexer": "ipython3",
   "version": "3.11.3"
  }
 },
 "nbformat": 4,
 "nbformat_minor": 2
}
