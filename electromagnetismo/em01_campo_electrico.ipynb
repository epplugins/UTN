{
 "cells": [
  {
   "cell_type": "markdown",
   "metadata": {},
   "source": [
    "<table>\n",
    "<tr style=\"border:none;\">\n",
    "<td style=\"border:none;\"><a href=\"https://fra.utn.edu.ar/\">\n",
    "<image src=\"https://raw.githubusercontent.com/epplugins/UTN/main/assets/img/logoUTN-500.svg\"  width=\"100\">\n",
    "</a></td>\n",
    "<td style=\"border:none;\">Física 2<br>2024<br>Electromagnetismo<br>Material para trabajo en clase.\n",
    "</td>\n",
    "</tr>\n",
    "</table> \n",
    "\n",
    "# Campo Eléctrico\n",
    "\n",
    "<table>\n",
    "<tr style=\"border:none;\">\n",
    "<td style=\"border:none;\"><a href=\"https://creativecommons.org/licenses/by-nc-sa/4.0/deed.es\"><image src=\"https://raw.githubusercontent.com/epplugins/UTN/main/assets/img/by-nc-sa.svg\" width=\"70\" /></a></td>\n",
    "<td style=\"border:none;\">Edgardo Palazzo (epalazzo@fra.utn.edu.ar)\n",
    "</td>\n",
    "</tr>\n",
    "</table>\n",
    "\n",
    "---"
   ]
  },
  {
   "cell_type": "markdown",
   "metadata": {},
   "source": [
    "**Tabla de contenidos**<a id='toc0_'></a>    \n",
    "- 1. [Campo de una carga](#toc1_)    \n",
    "- 2. [Campo de dos cargas](#toc2_)    \n",
    "  - 2.1. [El dipolo eléctrico](#toc2_1_)    \n",
    "  - 2.2. [Dos cargas de diferente valor](#toc2_2_)    \n",
    "  - 2.3. [Ejercicio](#toc2_3_)    \n",
    "  - 2.4. [Más de dos cargas](#toc2_4_)    \n",
    "\n",
    "<!-- vscode-jupyter-toc-config\n",
    "\tnumbering=true\n",
    "\tanchor=true\n",
    "\tflat=false\n",
    "\tminLevel=2\n",
    "\tmaxLevel=6\n",
    "\t/vscode-jupyter-toc-config -->\n",
    "<!-- THIS CELL WILL BE REPLACED ON TOC UPDATE. DO NOT WRITE YOUR TEXT IN THIS CELL -->"
   ]
  },
  {
   "cell_type": "code",
   "execution_count": 8,
   "metadata": {},
   "outputs": [],
   "source": [
    "import matplotlib.pyplot as plt\n",
    "import numpy as np"
   ]
  },
  {
   "cell_type": "markdown",
   "metadata": {},
   "source": [
    "## 1. <a id='toc1_'></a>[Campo de una carga](#toc0_)\n",
    "\n",
    "El campo eléctrico producido por una carga puntual $q_0$ ubicada en la posición $\\vec{\\text{x}}_0$ puede escribirse como:\n",
    "$$\n",
    "\\vec{E}(\\vec{\\text{x}}) = \\frac{1}{4\\pi\\varepsilon_0} \\frac{q}{|\\vec{\\text{r}}|^2} \\hat{\\text{r}}\\, , \\tag{1}\n",
    "$$\n",
    "donde\n",
    "  * $|\\vec{r}|$ es la distancia entre la posición de la partícula cargada ($\\vec{\\text{x}}_0$) y la posición donde se quiere obtener el vector de campo eléctrico ($\\vec{\\text{x}}$)\n",
    "  * $\\hat{\\text{r}}$ es el vector unitario en la dirección desde $\\vec{\\text{x}}_0$ hacia $\\vec{\\text{x}}$\n",
    "\n",
    "según se muestra en la siguiente figura.\n",
    "\n",
    "<div>\n",
    "       <a href=\"https://fra.utn.edu.ar/\">\n",
    "       <image src=\"https://raw.githubusercontent.com/epplugins/UTN/main/electromagnetismo/img/em01_una_carga.svg\">\n",
    "       </a>\n",
    "</div>\n",
    "\n",
    "Si el vector unitario se reescribe como $\\hat{r} = \\vec{\\text{r}}/|\\vec{\\text{r}}|$, la expresión para el campo resulta:\n",
    "$$\n",
    "\\vec{E}(\\vec{\\text{x}}) = \\frac{1}{4\\pi\\varepsilon_0} \\frac{q}{|\\vec{\\text{r}}|^3} \\vec{\\text{r}}\\, . \\tag{2}\n",
    "$$\n",
    "\n",
    "Para escribir un código que calcule el campo eléctrico es conveniente utilizar una expresión con las coordenadas del punto campo y la posición de la carga explícitas. El código que utilizaremos reproduce la siguiente expresión:\n",
    "$$\n",
    "\\vec{E}(x,y,z) = \\frac{1}{4\\pi\\varepsilon_0} \\frac{q}{\\left ((x-x_0)^2 + (y-y_0)^2 + (z-z_0)^2 \\right )^{3/2}} \\left ( (x-x_0)\\hat{i} + (y-y_0)\\hat{j} + (z-z_0)\\hat{k} \\right ) . \\tag{3}\n",
    "$$"
   ]
  },
  {
   "cell_type": "markdown",
   "metadata": {},
   "source": [
    "Definición de una función que calcula las componentes del campo eléctrico en la posición $(x,y,z)$ cuando se tiene una carga de $1~\\text{nC}$ en el origen:"
   ]
  },
  {
   "cell_type": "code",
   "execution_count": 6,
   "metadata": {},
   "outputs": [],
   "source": [
    "def E(x,y,z):\n",
    "    \"\"\"Calcula las componentes del campo eléctrico en N/C.\n",
    "    Ingresar valores de x,y,z en metros y q en coulomb.\n",
    "    \"\"\"\n",
    "    q = 1E-9\n",
    "    x0 = 0\n",
    "    y0 = 0\n",
    "    z0 = 0\n",
    "\n",
    "    r = ((x - x0)**2 + (y - y0)**2 + (z - z0)**2)**(3/2)\n",
    "    Ei = 9E9 * q * (x - x0) / r\n",
    "    Ej = 9E9 * q * (y - y0) / r\n",
    "    Ek = 9E9 * q * (z - z0) / r\n",
    "    \n",
    "    return Ei, Ej, Ek"
   ]
  },
  {
   "cell_type": "markdown",
   "metadata": {},
   "source": [
    "Si queremos el vector campo eléctrico en alguna posición, simplemente se ingresan los valores de $x,y,z$:"
   ]
  },
  {
   "cell_type": "code",
   "execution_count": 4,
   "metadata": {},
   "outputs": [
    {
     "data": {
      "text/plain": [
       "(9.0, 0.0, 0.0)"
      ]
     },
     "execution_count": 4,
     "metadata": {},
     "output_type": "execute_result"
    }
   ],
   "source": [
    "E(1,0,0)"
   ]
  },
  {
   "cell_type": "code",
   "execution_count": 9,
   "metadata": {},
   "outputs": [
    {
     "name": "stderr",
     "output_type": "stream",
     "text": [
      "/tmp/ipykernel_12250/329256007.py:11: RuntimeWarning: invalid value encountered in divide\n",
      "  Ei = 9E9 * q * (x - x0) / r\n",
      "/tmp/ipykernel_12250/329256007.py:12: RuntimeWarning: invalid value encountered in divide\n",
      "  Ej = 9E9 * q * (y - y0) / r\n",
      "/tmp/ipykernel_12250/329256007.py:13: RuntimeWarning: invalid value encountered in divide\n",
      "  Ek = 9E9 * q * (z - z0) / r\n"
     ]
    },
    {
     "data": {
      "text/plain": [
       "(array([       nan, 1.73205081, 0.4330127 , 0.19245009]),\n",
       " array([       nan, 1.73205081, 0.4330127 , 0.19245009]),\n",
       " array([       nan, 1.73205081, 0.4330127 , 0.19245009]))"
      ]
     },
     "execution_count": 9,
     "metadata": {},
     "output_type": "execute_result"
    }
   ],
   "source": [
    "x = np.arange(4)\n",
    "y = np.arange(4)\n",
    "z = np.arange(4)\n",
    "E(x,y,z)"
   ]
  },
  {
   "cell_type": "markdown",
   "metadata": {},
   "source": [
    "## 2. <a id='toc2_'></a>[Campo de dos cargas](#toc0_)\n",
    "\n",
    "### 2.1. <a id='toc2_1_'></a>[El dipolo eléctrico](#toc0_)"
   ]
  },
  {
   "cell_type": "code",
   "execution_count": 5,
   "metadata": {},
   "outputs": [],
   "source": [
    "# some code"
   ]
  },
  {
   "cell_type": "markdown",
   "metadata": {},
   "source": [
    "### 2.2. <a id='toc2_2_'></a>[Dos cargas de diferente valor](#toc0_)"
   ]
  },
  {
   "cell_type": "code",
   "execution_count": 6,
   "metadata": {},
   "outputs": [],
   "source": [
    "# some code"
   ]
  },
  {
   "cell_type": "markdown",
   "metadata": {},
   "source": [
    "### 2.3. <a id='toc2_3_'></a>[Ejercicio](#toc0_)"
   ]
  },
  {
   "cell_type": "code",
   "execution_count": 1,
   "metadata": {},
   "outputs": [],
   "source": [
    "# Algo, buscar los valores de E, la posición de la carga, o la fuerza sobre una carga.\n",
    "\n",
    "# Buscar los ángulos para el vector, en posiciones conocidas, luego en cualquier lugar, luego con alguna condición como que apunte en cierta dirección."
   ]
  },
  {
   "cell_type": "markdown",
   "metadata": {},
   "source": [
    "### 2.4. <a id='toc2_4_'></a>[Más de dos cargas](#toc0_)"
   ]
  },
  {
   "cell_type": "code",
   "execution_count": null,
   "metadata": {},
   "outputs": [],
   "source": []
  }
 ],
 "metadata": {
  "kernelspec": {
   "display_name": "utn",
   "language": "python",
   "name": "python3"
  },
  "language_info": {
   "codemirror_mode": {
    "name": "ipython",
    "version": 3
   },
   "file_extension": ".py",
   "mimetype": "text/x-python",
   "name": "python",
   "nbconvert_exporter": "python",
   "pygments_lexer": "ipython3",
   "version": "3.11.3"
  }
 },
 "nbformat": 4,
 "nbformat_minor": 2
}
