{
 "cells": [
  {
   "cell_type": "markdown",
   "metadata": {},
   "source": [
    "<table>\n",
    "<tr style=\"border:none;\">\n",
    "<td style=\"border:none;\"><a href=\"https://fra.utn.edu.ar/\">\n",
    "<image src=\"https://raw.githubusercontent.com/epplugins/UTN/main/assets/img/logoUTN-500.svg\"  width=\"100\">\n",
    "</a></td>\n",
    "<td style=\"border:none;\">Física 2<br>2024<br>Electromagnetismo<br>Material para trabajo en clase\n",
    "</td>\n",
    "</tr>\n",
    "</table> \n",
    "\n",
    "# Campo Eléctrico\n",
    "\n",
    "<table>\n",
    "<tr style=\"border:none;\">\n",
    "<td style=\"border:none;\"><a href=\"https://creativecommons.org/licenses/by-nc-sa/4.0/deed.es\"><image src=\"https://raw.githubusercontent.com/epplugins/UTN/main/assets/img/by-nc-sa.svg\" width=\"70\" /></a></td>\n",
    "<td style=\"border:none;\">Edgardo Palazzo (epalazzo@fra.utn.edu.ar)\n",
    "</td>\n",
    "</tr>\n",
    "</table>\n",
    "\n",
    "---"
   ]
  },
  {
   "cell_type": "markdown",
   "metadata": {},
   "source": [
    "**Tabla de contenidos**<a id='toc0_'></a>    \n",
    "- 1. [Campo de una carga](#toc1_)    \n",
    "- 2. [Campo de un sistema de cargas puntuales](#toc2_)    \n",
    "  - 2.1. [El dipolo eléctrico](#toc2_1_)    \n",
    "  - 2.2. [Ejercicio 1: dos cargas](#toc2_2_)    \n",
    "  - 2.3. [Más de dos cargas](#toc2_3_)    \n",
    "  - 2.4. [Ejercicio 2: problema 11.9](#toc2_4_)    \n",
    "- 3. [Líneas de campo en 3 dimensiones](#toc3_)    \n",
    "\n",
    "<!-- vscode-jupyter-toc-config\n",
    "\tnumbering=true\n",
    "\tanchor=true\n",
    "\tflat=false\n",
    "\tminLevel=2\n",
    "\tmaxLevel=6\n",
    "\t/vscode-jupyter-toc-config -->\n",
    "<!-- THIS CELL WILL BE REPLACED ON TOC UPDATE. DO NOT WRITE YOUR TEXT IN THIS CELL -->"
   ]
  },
  {
   "cell_type": "code",
   "execution_count": null,
   "metadata": {},
   "outputs": [],
   "source": [
    "import matplotlib.pyplot as plt\n",
    "import numpy as np\n",
    "import sys\n",
    "\n",
    "# ------------------------------------\n",
    "# Lo siguiente es necesario para que funcione en Google Colab\n",
    "try:\n",
    "  import libem as em\n",
    "except:\n",
    "  # No descarga los archivos (aunque sí descarga .git)\n",
    "  !git clone -n https://github.com/epplugins/UTN.git --depth 1\n",
    "  !cd UTN;git checkout HEAD electromagnetismo/libem.py\n",
    "  sys.path.insert(0, 'UTN/electromagnetismo')\n",
    "  import libem as em\n",
    "\n",
    "try:\n",
    "  import google.colab\n",
    "  IN_COLAB = True\n",
    "except:\n",
    "  IN_COLAB = False\n",
    "\n",
    "if IN_COLAB:\n",
    "  !pip --quiet install ipympl\n",
    "  from google.colab import output\n",
    "  output.enable_custom_widget_manager()\n",
    "# Fin Google colab\n",
    "# ------------------------------------\n",
    "\n",
    "%matplotlib widget"
   ]
  },
  {
   "cell_type": "markdown",
   "metadata": {},
   "source": [
    "## 1. <a id='toc1_'></a>[Campo de una carga](#toc0_)\n",
    "\n",
    "El campo eléctrico producido por una carga puntual $q_0$ ubicada en la posición $\\vec{\\text{x}}_0$ puede escribirse como:\n",
    "$$\n",
    "\\vec{E}(\\vec{\\text{x}}) = \\frac{1}{4\\pi\\varepsilon_0} \\frac{q}{|\\vec{\\text{r}}|^2} \\hat{\\text{r}}\\, , \\tag{1}\n",
    "$$\n",
    "donde\n",
    "  * $|\\vec{\\text{r}}|$ es la distancia entre la posición de la partícula cargada ($\\vec{\\text{x}}_0$) y la posición donde se quiere obtener el vector de campo eléctrico ($\\vec{\\text{x}}$)\n",
    "  * $\\hat{\\text{r}}$ es el vector unitario en la dirección desde $\\vec{\\text{x}}_0$ hacia $\\vec{\\text{x}}$\n",
    "\n",
    "según se muestra en la siguiente figura.\n",
    "\n",
    "<div>\n",
    "       <a href=\"https://fra.utn.edu.ar/\">\n",
    "       <image src=\"https://raw.githubusercontent.com/epplugins/UTN/main/electromagnetismo/img/em01_una_carga.svg\">\n",
    "       </a>\n",
    "</div>\n",
    "\n",
    "Si el vector unitario se reescribe como $\\hat{r} = \\vec{\\text{r}}/|\\vec{\\text{r}}|$, la expresión para el campo resulta:\n",
    "$$\n",
    "\\vec{E}(\\vec{\\text{x}}) = \\frac{1}{4\\pi\\varepsilon_0} \\frac{q}{|\\vec{\\text{r}}|^3} \\vec{\\text{r}}\\, . \\tag{2}\n",
    "$$\n",
    "\n",
    "Para escribir un código que calcule el campo eléctrico es conveniente utilizar una expresión con las coordenadas del punto campo y la posición de la carga explícitas. El código que utilizaremos reproduce la siguiente expresión:\n",
    "$$\n",
    "\\vec{E}(x,y,z) = \\frac{1}{4\\pi\\varepsilon_0} \\frac{q}{\\left ((x-x_0)^2 + (y-y_0)^2 + (z-z_0)^2 \\right )^{3/2}} \\left ( (x-x_0)\\hat{i} + (y-y_0)\\hat{j} + (z-z_0)\\hat{k} \\right ) . \\tag{3}\n",
    "$$"
   ]
  },
  {
   "cell_type": "markdown",
   "metadata": {},
   "source": [
    "Definición de una función que calcula las componentes del campo eléctrico en la posición $(x,y,z)$ cuando se tiene una carga de $1~\\text{nC}$ en el origen:"
   ]
  },
  {
   "cell_type": "code",
   "execution_count": null,
   "metadata": {},
   "outputs": [],
   "source": [
    "def E(x,y,z):\n",
    "    \"\"\"Calcula las componentes del campo eléctrico en N/C.\n",
    "    Ingresar valores de x,y,z en metros y q en coulomb.\n",
    "    \"\"\"\n",
    "    q = 1E-9\n",
    "    x0 = 0\n",
    "    y0 = 0\n",
    "    z0 = 0\n",
    "\n",
    "    r = ((x - x0)**2 + (y - y0)**2 + (z - z0)**2)**(3/2)\n",
    "    Ei = 9E9 * q * (x - x0) / r\n",
    "    Ej = 9E9 * q * (y - y0) / r\n",
    "    Ek = 9E9 * q * (z - z0) / r\n",
    "\n",
    "    return Ei, Ej, Ek"
   ]
  },
  {
   "cell_type": "markdown",
   "metadata": {},
   "source": [
    "Si queremos el vector campo eléctrico en alguna posición, simplemente se ingresan los valores de $x,y,z$:"
   ]
  },
  {
   "cell_type": "code",
   "execution_count": null,
   "metadata": {},
   "outputs": [],
   "source": [
    "E(-1,0,0)"
   ]
  },
  {
   "cell_type": "markdown",
   "metadata": {},
   "source": [
    "Veamos las líneas de campo de una única carga puntual:"
   ]
  },
  {
   "cell_type": "code",
   "execution_count": null,
   "metadata": {},
   "outputs": [],
   "source": [
    "# El objetivo principal de este cuaderno es el cálculo de campos eléctricos. \n",
    "# Por tal motivo el código para la creación de gráficos avanzados como este \n",
    "# no se muestra explícitamente, y se importan de la librería lib_em.py. \n",
    "# En otros cuadernos más avanzados se puede experimentar en la creación de gráficos."
   ]
  },
  {
   "cell_type": "code",
   "execution_count": null,
   "metadata": {},
   "outputs": [],
   "source": [
    "em.plotE(E, dx=4)"
   ]
  },
  {
   "cell_type": "markdown",
   "metadata": {},
   "source": [
    "## 2. <a id='toc2_'></a>[Campo de un sistema de cargas puntuales](#toc0_)\n",
    "\n",
    "El campo total producido por un sistema de $N$ cargas puntuales es la suma de los campos de cada carga (ver ecuación (2) para el campo de una única carga):\n",
    "$$\n",
    "\\vec{E}(\\vec{\\text{x}}) = \\frac{1}{4\\pi\\varepsilon_0} \\sum_{i=1}^N \\frac{q_i}{|\\vec{\\text{r}}_i|^3} \\vec{\\text{r}}_i\\, , \\tag{4}\n",
    "$$\n",
    "\n",
    "donde\n",
    "* $q_i$ es la carga eléctrica de la partícula i-ésima \n",
    "* $\\vec{\\text{r}}_i$ es el vector diferencia entre la posición donde se quiere obtener el vector de campo eléctrico ($\\vec{\\text{x}}$) y la posición de la partícula cargada ($\\vec{\\text{x}}_i$) : $\\vec{\\text{r}}_i = (x-x_i)\\hat{i} + (y-y_i)\\hat{j} + (z-z_i)\\hat{k} $\n",
    "\n",
    "### 2.1. <a id='toc2_1_'></a>[El dipolo eléctrico](#toc0_)\n",
    "\n",
    "Un dipolo es un sistema de dos cargas eléctricas de igual módulo pero signos opuestos, separadas por una distancia $d$. Para calcular el campo total podemos extender el código utilizado anteriormente agregando los datos de la segunda carga y sumando:"
   ]
  },
  {
   "cell_type": "code",
   "execution_count": null,
   "metadata": {},
   "outputs": [],
   "source": [
    "def E2(x,y,z):\n",
    "    \"\"\"Calcula las componentes del campo eléctrico en N/C de un sistema de 2 cargas.\n",
    "    Ingresar valores de x,y,z en metros y q en coulomb.\n",
    "    \"\"\"\n",
    "    q1 = -1E-9\n",
    "    x1 = -2\n",
    "    y1 = 0\n",
    "    z1 = 0\n",
    "\n",
    "    q2 = 1E-9\n",
    "    x2 = 2\n",
    "    y2 = 0\n",
    "    z2 = 0\n",
    "\n",
    "    r = ((x - x1)**2 + (y - y1)**2 + (z - z1)**2)**(3/2)\n",
    "    Ei1 = 9E9 * q1 * (x - x1) / r\n",
    "    Ej1 = 9E9 * q1 * (y - y1) / r\n",
    "    Ek1 = 9E9 * q1 * (z - z1) / r\n",
    "\n",
    "    r = ((x - x2)**2 + (y - y2)**2 + (z - z2)**2)**(3/2)\n",
    "    Ei2 = 9E9 * q2 * (x - x2) / r\n",
    "    Ej2 = 9E9 * q2 * (y - y2) / r\n",
    "    Ek2 = 9E9 * q2 * (z - z2) / r\n",
    "\n",
    "    return Ei1+Ei2, Ej1+Ej2, Ek1+Ek2"
   ]
  },
  {
   "cell_type": "markdown",
   "metadata": {},
   "source": [
    "Verifiquemos que nuestro código funciona correctamente, calculando los vectores E en diferentes posiciones:"
   ]
  },
  {
   "cell_type": "code",
   "execution_count": null,
   "metadata": {},
   "outputs": [],
   "source": [
    "print(\"E(0,0,0) = \", E2(0,0,0))\n",
    "print(\"E(1,0,0) = \", E2(1,0,0))\n",
    "print(\"E(4,0,0) = \", E2(4,0,0))\n",
    "print(\"E(-4,0,0) = \", E2(-4,0,0))\n",
    "print(\"E(0,2,0) = \", E2(0,2,0))\n",
    "print(\"E(0,0,2) = \", E2(0,0,2))\n",
    "print(\"E(2,2,0) = \", E2(2,2,0))\n",
    "print(\"E(-2,2,0) = \", E2(-2,2,0))\n",
    "print(\"E(0,2,2) = \", E2(0,2,2))"
   ]
  },
  {
   "cell_type": "markdown",
   "metadata": {},
   "source": [
    "Las líneas de campo eléctrico del dipolo:"
   ]
  },
  {
   "cell_type": "code",
   "execution_count": null,
   "metadata": {},
   "outputs": [],
   "source": [
    "em.plotE(E2, dx=6, title='Líneas de campo de un dipolo eléctrico')"
   ]
  },
  {
   "cell_type": "markdown",
   "metadata": {},
   "source": [
    "### 2.2. <a id='toc2_2_'></a>[Ejercicio 1: dos cargas](#toc0_)\n",
    "\n",
    "Experimentar modificando la definición de la función E2 para obtener las líneas de campo de distintas configuraciones."
   ]
  },
  {
   "cell_type": "code",
   "execution_count": null,
   "metadata": {},
   "outputs": [],
   "source": [
    "# Función E2 modificada.\n",
    "# def E2mod(x,y,z):\n",
    "    # El nuevo código.\n",
    "\n"
   ]
  },
  {
   "cell_type": "code",
   "execution_count": null,
   "metadata": {},
   "outputs": [],
   "source": [
    "# Generar las líneas de campo.\n",
    "\n"
   ]
  },
  {
   "cell_type": "markdown",
   "metadata": {},
   "source": [
    "### 2.3. <a id='toc2_3_'></a>[Más de dos cargas](#toc0_)\n",
    "\n",
    "El código que usamos anteriormente no es útil cuando se trabaja con muchas cargas.\n",
    "\n",
    "Además, ahora las cargas pueden no formar un plano, y en ese caso el gráfico de las líneas de campo puede ser muy complicado. Por el momento trabajemos con cargas ubicadas en el plano $xy$, es decir $z=0$.\n",
    "\n",
    "Para extender nuestro cálculo, en los parámetros de la función agregamos una lista con las cargas y sus posiciones."
   ]
  },
  {
   "cell_type": "code",
   "execution_count": null,
   "metadata": {},
   "outputs": [],
   "source": [
    "def Ef(x, y, z, Q):\n",
    "    \"\"\"Calcula las componentes del campo eléctrico en N/C.\n",
    "    Ingresar valores de x,y,z en metros y q en coulomb.\n",
    "    Q es una lista de la forma:\n",
    "    Q = [\n",
    "        [q1,x1,y1,z1],\n",
    "        [q2,x2,y2,z2],\n",
    "        ...\n",
    "        [qN,xN,yN,zN]\n",
    "    ]\n",
    "    \"\"\"\n",
    "    Ei,Ej,Ek = 0,0,0\n",
    "    for qi in Q:\n",
    "        r = ((x - qi[1])**2 + (y - qi[2])**2 + (z - qi[3])**2)**(3/2)\n",
    "        Ei = Ei + 9E9 * qi[0] * (x - qi[1]) / r\n",
    "        Ej = Ej + 9E9 * qi[0] * (y - qi[2]) / r\n",
    "        Ek = Ek + 9E9 * qi[0] * (z - qi[3]) / r\n",
    "\n",
    "    return Ei, Ej, Ek"
   ]
  },
  {
   "cell_type": "markdown",
   "metadata": {},
   "source": [
    "A continuación se calcula el campo producido por 3 cargas: q1 = 5 nC en (0,0,0), q2 = -3 nC en (-2,0,0) y q3 = 7 nC en (2,3,0), en distintos puntos."
   ]
  },
  {
   "cell_type": "code",
   "execution_count": null,
   "metadata": {},
   "outputs": [],
   "source": [
    "Q = [\n",
    "    [5E-9,0,0,0],\n",
    "    [-3E-9,-2,0,0],\n",
    "    [7E-9,2,3,0],\n",
    "]\n",
    "print(\"E(1,0,0)  = \", np.round(Ef(1,0,0,Q), decimals=3))\n",
    "print(\"E(1,-2,0) = \", np.round(Ef(1,-2,0,Q), decimals=3))\n",
    "print(\"E(-4,0,0) = \", np.round(Ef(-4,0,0,Q), decimals=3))\n",
    "print(\"E(0,0,2)  = \", np.round(Ef(0,0,2,Q), decimals=3))\n",
    "print(\"E(0,2,0)  = \", np.round(Ef(0,2,0,Q), decimals=3))\n"
   ]
  },
  {
   "cell_type": "code",
   "execution_count": null,
   "metadata": {},
   "outputs": [],
   "source": [
    "X = [[1,0,0],[0,-2,0],[-3,0,0],[0,2,0]]\n",
    "em.plotEfvector(Ef, Q, X, [-4,4,-4,4])"
   ]
  },
  {
   "cell_type": "markdown",
   "metadata": {},
   "source": [
    "Veamos las líneas de campo de esta distribución."
   ]
  },
  {
   "cell_type": "code",
   "execution_count": null,
   "metadata": {},
   "outputs": [],
   "source": [
    "em.plotEf(Ef, Q, dx=6, density=1.8)"
   ]
  },
  {
   "cell_type": "markdown",
   "metadata": {},
   "source": [
    "### 2.4. <a id='toc2_4_'></a>[Ejercicio 2: problema 11.9](#toc0_)\n",
    "\n",
    "Las cargas $q_1 = 2~\\mu\\text{C}$, $q_2 = -8~\\mu\\text{C}$ y $q_3 = 12~\\mu\\text{C}$ se colocan en los vértices de un triángulo equilátero, cuyos lados miden $10~\\text{cm}$, como se muestra en la figura. Hallar el campo eléctrico en el punto $P$.  \n",
    "\n",
    "<div>\n",
    "       <a href=\"https://fra.utn.edu.ar/\">\n",
    "       <image src=\"https://raw.githubusercontent.com/epplugins/UTN/main/electromagnetismo/img/em01_triangulo.svg\" width=\"300\">\n",
    "       </a>\n",
    "</div>\n",
    "\n",
    "Respuesta: $\\vec{E} = \\left (-36\\hat{i} + 9.6\\hat{j} \\right ) \\times 10^6~\\text{N/C}$\n",
    "\n",
    "1. Resolver el problema 11.9 utilizando el código de esta sección.\n",
    "1. Graficar las líneas de campo de esta distribución de cargas.\n",
    "1. A partir del gráfico localizar posiciones donde el campo es aproximadamente: i) horizontal, ii) vertical. Verificar que sus elecciones de dichas posiciones sean correctas calculando el campo con la función que estamos utilizando.\n",
    "\n"
   ]
  },
  {
   "cell_type": "code",
   "execution_count": null,
   "metadata": {},
   "outputs": [],
   "source": [
    "# Cálculo de E en P\n",
    "\n"
   ]
  },
  {
   "cell_type": "code",
   "execution_count": null,
   "metadata": {},
   "outputs": [],
   "source": [
    "# Líneas de campo\n",
    "\n"
   ]
  },
  {
   "cell_type": "code",
   "execution_count": null,
   "metadata": {},
   "outputs": [],
   "source": [
    "# Posición o posiciones donde E es horizontal\n",
    "\n"
   ]
  },
  {
   "cell_type": "code",
   "execution_count": null,
   "metadata": {},
   "outputs": [],
   "source": [
    "# Posición o posiciones donde E es vertical\n",
    "\n"
   ]
  },
  {
   "cell_type": "markdown",
   "metadata": {},
   "source": [
    "## 3. <a id='toc3_'></a>[Visualización del campo en 3D](#toc0_)\n",
    "\n",
    "Graficar líneas de campo en 3D es bastante complicado. En lugar de líneas de campo, en los ejemplos a continuación se muestran los vectores en diferentes puntos del espacio. Los vectores tienen todos la misma longitud, si se graficaran con las longitudes correctas los gráficos resultarían incomprensibles."
   ]
  },
  {
   "cell_type": "code",
   "execution_count": null,
   "metadata": {},
   "outputs": [],
   "source": [
    "# El dipolo\n",
    "Q = [\n",
    "    [1E-9,1,0,0],\n",
    "    [-1E-9,-1,0,0],\n",
    "]\n",
    "\n",
    "em.plotEfvector3d(Ef, Q, dx=2, w=6, figsize=(6,6))"
   ]
  },
  {
   "cell_type": "code",
   "execution_count": null,
   "metadata": {},
   "outputs": [],
   "source": [
    "Q = [\n",
    "    [1E-9,1,1,0],\n",
    "    [1E-9,1,-1,0],\n",
    "    [1E-9,-1,1,0],\n",
    "    [1E-9,-1,-1,0],\n",
    "    [-3E-9,0,0,1],\n",
    "]\n",
    "\n",
    "em.plotEfvector3d(Ef, Q, dx=4, w=8, figsize=(6,6))"
   ]
  }
 ],
 "metadata": {
  "kernelspec": {
   "display_name": "utn",
   "language": "python",
   "name": "python3"
  },
  "language_info": {
   "codemirror_mode": {
    "name": "ipython",
    "version": 3
   },
   "file_extension": ".py",
   "mimetype": "text/x-python",
   "name": "python",
   "nbconvert_exporter": "python",
   "pygments_lexer": "ipython3",
   "version": "3.11.3"
  }
 },
 "nbformat": 4,
 "nbformat_minor": 2
}
