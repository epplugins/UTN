{
 "cells": [
  {
   "cell_type": "markdown",
   "metadata": {},
   "source": [
    "# Campo Eléctrico\n",
    "\n",
    "<div>\n",
    "       <a href=\"https://fra.utn.edu.ar/\">\n",
    "       <image src=\"https://raw.githubusercontent.com/epplugins/UTN/main/assets/img/logoUTN-500.svg\"  width=\"100\">\n",
    "       </a>\n",
    "</div>\n",
    "<div>\n",
    "       <a href=\"https://creativecommons.org/licenses/by-nc-sa/4.0/deed.es\">\n",
    "       <image src=\"https://raw.githubusercontent.com/epplugins/UTN/main/assets/img/by-nc-sa.svg\" width=\"70\" />\n",
    "       </a> Edgardo Palazzo (epalazzo@fra.utn.edu.ar)\n",
    "</div> "
   ]
  },
  {
   "cell_type": "markdown",
   "metadata": {},
   "source": [
    "\n",
    "\n",
    "---"
   ]
  },
  {
   "cell_type": "markdown",
   "metadata": {},
   "source": [
    "**Tabla de contenidos**<a id='toc0_'></a>    \n",
    "- 1. [Campo de una carga](#toc1_)    \n",
    "- 2. [Campo de dos cargas](#toc2_)    \n",
    "  - 2.1. [El dipolo eléctrico](#toc2_1_)    \n",
    "  - 2.2. [Dos cargas de diferente valor](#toc2_2_)    \n",
    "  - 2.3. [Ejercicio](#toc2_3_)    \n",
    "  - 2.4. [Más de dos cargas](#toc2_4_)    \n",
    "\n",
    "<!-- vscode-jupyter-toc-config\n",
    "\tnumbering=true\n",
    "\tanchor=true\n",
    "\tflat=false\n",
    "\tminLevel=2\n",
    "\tmaxLevel=6\n",
    "\t/vscode-jupyter-toc-config -->\n",
    "<!-- THIS CELL WILL BE REPLACED ON TOC UPDATE. DO NOT WRITE YOUR TEXT IN THIS CELL -->"
   ]
  },
  {
   "cell_type": "code",
   "execution_count": 3,
   "metadata": {},
   "outputs": [],
   "source": [
    "# some imports"
   ]
  },
  {
   "cell_type": "markdown",
   "metadata": {},
   "source": [
    "## 1. <a id='toc1_'></a>[Campo de una carga](#toc0_)\n",
    "\n",
    "El campo eléctrico producido por una carga puntual $q_0$ ubicada en la posición $\\vec{\\text{x}}_0$ puede escribirse como:\n",
    "$$\n",
    "\\vec{E}(\\vec{\\text{x}}) = \\frac{1}{4\\pi\\varepsilon_0} \\frac{q}{|\\vec{\\text{r}}|^2} \\hat{\\text{r}}\\, , \\tag{1}\n",
    "$$\n",
    "donde\n",
    "  * $|\\vec{r}|$ es la distancia entre la posición de la partícula cargada ($\\vec{\\text{x}}_0$) y la posición donde se quiere obtener el vector de campo eléctrico ($\\vec{\\text{x}}$)\n",
    "  * $\\hat{\\text{r}}$ es el vector unitario en la dirección desde $\\vec{\\text{x}}_0$ hacia $\\vec{\\text{x}}$\n",
    "\n",
    "Si el vector unitario se reescribe como $\\hat{\\text{r}} = \\vec{\\text{r}}/|\\vec{\\text{r}}|$, la expresión para el campo resulta:\n",
    "$$\n",
    "\\vec{E}(\\vec{\\text{x}}) = \\frac{1}{4\\pi\\varepsilon_0} \\frac{q}{|\\vec{\\text{r}}|^3} \\vec{\\text{r}}\\, . \\tag{2}\n",
    "$$\n",
    "\n",
    "Para escribir un código que calcule el campo eléctrico es conveniente utilizar una expresión con las coordenadas del punto campo y la carga explícitas. El código que utilizaremos reproduce la siguiente expresión:\n",
    "$$\n",
    "\\vec{E}(x,y,z) = \\frac{1}{4\\pi\\varepsilon_0} \\frac{q}{\\left ((x-x_0)^2 + (y-y_0)^2 + (z-z_0)^2 \\right )^{3/2}} \\left ( (x-x_0)\\hat{\\text{i}} + (y-y_0)\\hat{\\text{j}} + (z-z_0)\\hat{\\text{k}} \\right ) . \\tag{3}\n",
    "$$\n",
    "  "
   ]
  },
  {
   "cell_type": "code",
   "execution_count": 4,
   "metadata": {},
   "outputs": [
    {
     "name": "stdout",
     "output_type": "stream",
     "text": [
      "Hi\n"
     ]
    }
   ],
   "source": [
    "print(\"Hi\")"
   ]
  },
  {
   "cell_type": "markdown",
   "metadata": {},
   "source": [
    "## 2. <a id='toc2_'></a>[Campo de dos cargas](#toc0_)\n",
    "\n",
    "### 2.1. <a id='toc2_1_'></a>[El dipolo eléctrico](#toc0_)"
   ]
  },
  {
   "cell_type": "code",
   "execution_count": 5,
   "metadata": {},
   "outputs": [],
   "source": [
    "# some code"
   ]
  },
  {
   "cell_type": "markdown",
   "metadata": {},
   "source": [
    "### 2.2. <a id='toc2_2_'></a>[Dos cargas de diferente valor](#toc0_)"
   ]
  },
  {
   "cell_type": "code",
   "execution_count": 6,
   "metadata": {},
   "outputs": [],
   "source": [
    "# some code"
   ]
  },
  {
   "cell_type": "markdown",
   "metadata": {},
   "source": [
    "### 2.3. <a id='toc2_3_'></a>[Ejercicio](#toc0_)"
   ]
  },
  {
   "cell_type": "code",
   "execution_count": 7,
   "metadata": {},
   "outputs": [],
   "source": [
    "# Algo, buscar los valores de E, la posición de la carga, o la fuerza sobre una carga."
   ]
  },
  {
   "cell_type": "markdown",
   "metadata": {},
   "source": [
    "### 2.4. <a id='toc2_4_'></a>[Más de dos cargas](#toc0_)"
   ]
  },
  {
   "cell_type": "code",
   "execution_count": null,
   "metadata": {},
   "outputs": [],
   "source": []
  }
 ],
 "metadata": {
  "kernelspec": {
   "display_name": "utn",
   "language": "python",
   "name": "python3"
  },
  "language_info": {
   "codemirror_mode": {
    "name": "ipython",
    "version": 3
   },
   "file_extension": ".py",
   "mimetype": "text/x-python",
   "name": "python",
   "nbconvert_exporter": "python",
   "pygments_lexer": "ipython3",
   "version": "3.11.3"
  }
 },
 "nbformat": 4,
 "nbformat_minor": 2
}
