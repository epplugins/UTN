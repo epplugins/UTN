{
 "cells": [
  {
   "cell_type": "markdown",
   "metadata": {},
   "source": [
    "# Campo Eléctrico\n",
    "\n",
    "<div>\n",
    "       <a href=\"https://fra.utn.edu.ar/\">\n",
    "       <image src=\"https://raw.githubusercontent.com/epplugins/UTN/main/assets/img/logoUTN-500.svg\"  width=\"100\">\n",
    "       </a>\n",
    "</div>\n",
    "<div>\n",
    "       <a href=\"https://creativecommons.org/licenses/by-nc-sa/4.0/deed.es\">\n",
    "       <image src=\"https://raw.githubusercontent.com/epplugins/UTN/main/assets/img/by-nc-sa.svg\" width=\"70\" />\n",
    "       </a> Edgardo Palazzo (epalazzo@fra.utn.edu.ar)\n",
    "</div> "
   ]
  },
  {
   "cell_type": "markdown",
   "metadata": {},
   "source": [
    "\n",
    "\n",
    "---"
   ]
  },
  {
   "cell_type": "code",
   "execution_count": null,
   "metadata": {},
   "outputs": [],
   "source": []
  }
 ],
 "metadata": {
  "language_info": {
   "name": "python"
  }
 },
 "nbformat": 4,
 "nbformat_minor": 2
}
